{
 "cells": [
  {
   "cell_type": "markdown",
   "id": "3aa6718f-7461-4ea0-b189-1d1e029e6fe4",
   "metadata": {},
   "source": [
    "### 1 вопрос: duration\n",
    "### 2 вопрос: 0.89\n",
    "### 3 вопрос: 0.265\n",
    "### 4 вопрос: 0.22\n",
    "### 5 вопрос: 0.006\n",
    "### 6 вопрос: 1"
   ]
  },
  {
   "cell_type": "code",
   "execution_count": 1,
   "id": "b810f8bd-843b-4f6a-8ca1-8766544bf258",
   "metadata": {},
   "outputs": [
    {
     "data": {
      "text/html": [
       "<div>\n",
       "<style scoped>\n",
       "    .dataframe tbody tr th:only-of-type {\n",
       "        vertical-align: middle;\n",
       "    }\n",
       "\n",
       "    .dataframe tbody tr th {\n",
       "        vertical-align: top;\n",
       "    }\n",
       "\n",
       "    .dataframe thead th {\n",
       "        text-align: right;\n",
       "    }\n",
       "</style>\n",
       "<table border=\"1\" class=\"dataframe\">\n",
       "  <thead>\n",
       "    <tr style=\"text-align: right;\">\n",
       "      <th></th>\n",
       "      <th>age</th>\n",
       "      <th>job</th>\n",
       "      <th>marital</th>\n",
       "      <th>education</th>\n",
       "      <th>default</th>\n",
       "      <th>balance</th>\n",
       "      <th>housing</th>\n",
       "      <th>loan</th>\n",
       "      <th>contact</th>\n",
       "      <th>day</th>\n",
       "      <th>month</th>\n",
       "      <th>duration</th>\n",
       "      <th>campaign</th>\n",
       "      <th>pdays</th>\n",
       "      <th>previous</th>\n",
       "      <th>poutcome</th>\n",
       "      <th>y</th>\n",
       "    </tr>\n",
       "  </thead>\n",
       "  <tbody>\n",
       "    <tr>\n",
       "      <th>0</th>\n",
       "      <td>58</td>\n",
       "      <td>management</td>\n",
       "      <td>married</td>\n",
       "      <td>tertiary</td>\n",
       "      <td>no</td>\n",
       "      <td>2143</td>\n",
       "      <td>yes</td>\n",
       "      <td>no</td>\n",
       "      <td>unknown</td>\n",
       "      <td>5</td>\n",
       "      <td>may</td>\n",
       "      <td>261</td>\n",
       "      <td>1</td>\n",
       "      <td>-1</td>\n",
       "      <td>0</td>\n",
       "      <td>unknown</td>\n",
       "      <td>no</td>\n",
       "    </tr>\n",
       "    <tr>\n",
       "      <th>1</th>\n",
       "      <td>44</td>\n",
       "      <td>technician</td>\n",
       "      <td>single</td>\n",
       "      <td>secondary</td>\n",
       "      <td>no</td>\n",
       "      <td>29</td>\n",
       "      <td>yes</td>\n",
       "      <td>no</td>\n",
       "      <td>unknown</td>\n",
       "      <td>5</td>\n",
       "      <td>may</td>\n",
       "      <td>151</td>\n",
       "      <td>1</td>\n",
       "      <td>-1</td>\n",
       "      <td>0</td>\n",
       "      <td>unknown</td>\n",
       "      <td>no</td>\n",
       "    </tr>\n",
       "    <tr>\n",
       "      <th>2</th>\n",
       "      <td>33</td>\n",
       "      <td>entrepreneur</td>\n",
       "      <td>married</td>\n",
       "      <td>secondary</td>\n",
       "      <td>no</td>\n",
       "      <td>2</td>\n",
       "      <td>yes</td>\n",
       "      <td>yes</td>\n",
       "      <td>unknown</td>\n",
       "      <td>5</td>\n",
       "      <td>may</td>\n",
       "      <td>76</td>\n",
       "      <td>1</td>\n",
       "      <td>-1</td>\n",
       "      <td>0</td>\n",
       "      <td>unknown</td>\n",
       "      <td>no</td>\n",
       "    </tr>\n",
       "    <tr>\n",
       "      <th>3</th>\n",
       "      <td>47</td>\n",
       "      <td>blue-collar</td>\n",
       "      <td>married</td>\n",
       "      <td>unknown</td>\n",
       "      <td>no</td>\n",
       "      <td>1506</td>\n",
       "      <td>yes</td>\n",
       "      <td>no</td>\n",
       "      <td>unknown</td>\n",
       "      <td>5</td>\n",
       "      <td>may</td>\n",
       "      <td>92</td>\n",
       "      <td>1</td>\n",
       "      <td>-1</td>\n",
       "      <td>0</td>\n",
       "      <td>unknown</td>\n",
       "      <td>no</td>\n",
       "    </tr>\n",
       "    <tr>\n",
       "      <th>4</th>\n",
       "      <td>33</td>\n",
       "      <td>unknown</td>\n",
       "      <td>single</td>\n",
       "      <td>unknown</td>\n",
       "      <td>no</td>\n",
       "      <td>1</td>\n",
       "      <td>no</td>\n",
       "      <td>no</td>\n",
       "      <td>unknown</td>\n",
       "      <td>5</td>\n",
       "      <td>may</td>\n",
       "      <td>198</td>\n",
       "      <td>1</td>\n",
       "      <td>-1</td>\n",
       "      <td>0</td>\n",
       "      <td>unknown</td>\n",
       "      <td>no</td>\n",
       "    </tr>\n",
       "  </tbody>\n",
       "</table>\n",
       "</div>"
      ],
      "text/plain": [
       "   age           job  marital  education default  balance housing loan  \\\n",
       "0   58    management  married   tertiary      no     2143     yes   no   \n",
       "1   44    technician   single  secondary      no       29     yes   no   \n",
       "2   33  entrepreneur  married  secondary      no        2     yes  yes   \n",
       "3   47   blue-collar  married    unknown      no     1506     yes   no   \n",
       "4   33       unknown   single    unknown      no        1      no   no   \n",
       "\n",
       "   contact  day month  duration  campaign  pdays  previous poutcome   y  \n",
       "0  unknown    5   may       261         1     -1         0  unknown  no  \n",
       "1  unknown    5   may       151         1     -1         0  unknown  no  \n",
       "2  unknown    5   may        76         1     -1         0  unknown  no  \n",
       "3  unknown    5   may        92         1     -1         0  unknown  no  \n",
       "4  unknown    5   may       198         1     -1         0  unknown  no  "
      ]
     },
     "execution_count": 1,
     "metadata": {},
     "output_type": "execute_result"
    }
   ],
   "source": [
    "import pandas as pd\n",
    "\n",
    "data = pd.read_csv('bank-full.csv', sep=';')\n",
    "data.head()"
   ]
  },
  {
   "cell_type": "code",
   "execution_count": 2,
   "id": "f8c0adc2-fb9c-4483-91af-a47cb7119b5e",
   "metadata": {},
   "outputs": [
    {
     "data": {
      "text/plain": [
       "age           int64\n",
       "job          object\n",
       "marital      object\n",
       "education    object\n",
       "default      object\n",
       "balance       int64\n",
       "housing      object\n",
       "loan         object\n",
       "contact      object\n",
       "day           int64\n",
       "month        object\n",
       "duration      int64\n",
       "campaign      int64\n",
       "pdays         int64\n",
       "previous      int64\n",
       "poutcome     object\n",
       "y            object\n",
       "dtype: object"
      ]
     },
     "execution_count": 2,
     "metadata": {},
     "output_type": "execute_result"
    }
   ],
   "source": [
    "data.dtypes"
   ]
  },
  {
   "cell_type": "code",
   "execution_count": 3,
   "id": "3f86aeba-b9fa-4e18-8c04-9625cbd09125",
   "metadata": {},
   "outputs": [
    {
     "name": "stdout",
     "output_type": "stream",
     "text": [
      "Важность признаков:\n",
      "      Feature  Importance\n",
      "9    duration    0.292487\n",
      "4     balance    0.110842\n",
      "0         age    0.106120\n",
      "7         day    0.092015\n",
      "8       month    0.088867\n",
      "1         job    0.050728\n",
      "11      pdays    0.049481\n",
      "13   poutcome    0.049281\n",
      "10   campaign    0.040784\n",
      "3   education    0.029153\n",
      "5     housing    0.024675\n",
      "2     marital    0.023351\n",
      "6     contact    0.021701\n",
      "12   previous    0.020515\n"
     ]
    }
   ],
   "source": [
    "from sklearn.model_selection import train_test_split\n",
    "from sklearn.ensemble import RandomForestClassifier\n",
    "from sklearn.preprocessing import LabelEncoder\n",
    "\n",
    "columns = ['age', 'job', 'marital', 'education', 'balance', 'housing', 'contact', \n",
    "           'day', 'month', 'duration', 'campaign', 'pdays', 'previous', 'poutcome', 'y']\n",
    "data = data[columns]\n",
    "\n",
    "# Преобразуем категориальные признаки\n",
    "label_encoders = {}\n",
    "for column in data.select_dtypes(include=['object']).columns:\n",
    "    le = LabelEncoder()\n",
    "    data[column] = le.fit_transform(data[column])\n",
    "    label_encoders[column] = le\n",
    "\n",
    "# Разделение данных на обучение, валидацию и тест\n",
    "train_data, test_data = train_test_split(data, test_size=0.4, random_state=1) # 60%\n",
    "val_data, test_data = train_test_split(test_data, test_size=0.5, random_state=1) #20% и 20%\n",
    "\n",
    "# Разделение на признаки и целевую переменную\n",
    "X_train, y_train = train_data.drop(columns='y'), train_data['y']\n",
    "X_val, y_val = val_data.drop(columns='y'), val_data['y']\n",
    "X_test, y_test = test_data.drop(columns='y'), test_data['y']\n",
    "\n",
    "model = RandomForestClassifier(random_state=1)\n",
    "model.fit(X_train, y_train)\n",
    "\n",
    "# Важность признаков\n",
    "feature_importances = pd.DataFrame({'Feature': X_train.columns, 'Importance': model.feature_importances_})\n",
    "feature_importances = feature_importances.sort_values(by='Importance', ascending=False)\n",
    "\n",
    "print(\"Важность признаков:\")\n",
    "print(feature_importances)"
   ]
  },
  {
   "cell_type": "markdown",
   "id": "0036b964-f395-4ffa-87e0-b407aaf0216e",
   "metadata": {},
   "source": [
    "### 1 вопрос"
   ]
  },
  {
   "cell_type": "code",
   "execution_count": 4,
   "id": "59602dfc-0a6d-44c7-84f9-4488d3f1f00d",
   "metadata": {},
   "outputs": [
    {
     "name": "stdout",
     "output_type": "stream",
     "text": [
      "AUC для каждой числовой переменной: {'age': np.float64(0.5125105881599707), 'balance': np.float64(0.5916931412945473), 'day': np.float64(0.5291275984648961), 'duration': np.float64(0.8128648066681694), 'campaign': np.float64(0.5742447701740003), 'pdays': np.float64(0.5897967289320412), 'previous': np.float64(0.5986704105715122)}\n",
      "Переменная с наивысшим AUC: duration со значением AUC: 0.8128648066681694\n"
     ]
    }
   ],
   "source": [
    "from sklearn.metrics import roc_auc_score\n",
    "\n",
    "numeric_features = ['age', 'balance', 'day', 'duration',\n",
    "                    'campaign', 'pdays', 'previous']\n",
    "\n",
    "auc_scores = {}\n",
    "\n",
    "# Для каждой переменной вычисляем AUC\n",
    "for feature in numeric_features:\n",
    "    # Рассчитываем AUC с оригинальными значениями\n",
    "    auc = roc_auc_score(y_train, X_train[feature])\n",
    "    \n",
    "    # Если AUC < 0.5, инвертируем значения\n",
    "    if auc < 0.5:\n",
    "        auc = roc_auc_score(y_train, -X_train[feature])\n",
    "    \n",
    "    # Сохраняем результат\n",
    "    auc_scores[feature] = auc\n",
    "\n",
    "# Определение переменной с наибольшим значением AUC\n",
    "max_auc_feature = max(auc_scores, key=auc_scores.get)\n",
    "max_auc_score = auc_scores[max_auc_feature]\n",
    "\n",
    "print(\"AUC для каждой числовой переменной:\", auc_scores)\n",
    "print(\"Переменная с наивысшим AUC:\", max_auc_feature, \"со значением AUC:\", max_auc_score)"
   ]
  },
  {
   "cell_type": "markdown",
   "id": "4ebe04e5-7ad7-4560-bb0b-a4d796003694",
   "metadata": {},
   "source": [
    "### 2 вопрос"
   ]
  },
  {
   "cell_type": "code",
   "execution_count": 5,
   "id": "e394e816-27b0-4aba-b3ad-9fda70e2b8c7",
   "metadata": {},
   "outputs": [
    {
     "name": "stdout",
     "output_type": "stream",
     "text": [
      "AUC на валидационном наборе: 0.865\n"
     ]
    }
   ],
   "source": [
    "from sklearn.feature_extraction import DictVectorizer\n",
    "from sklearn.linear_model import LogisticRegression\n",
    "\n",
    "X_train_dict = X_train.to_dict(orient='records')\n",
    "X_val_dict = X_val.to_dict(orient='records')\n",
    "\n",
    "dv = DictVectorizer(sparse=False)\n",
    "X_train_encoded = dv.fit_transform(X_train_dict)\n",
    "X_val_encoded = dv.transform(X_val_dict)\n",
    "\n",
    "model = LogisticRegression(solver='liblinear', C=1.0, max_iter=1000, random_state=1)\n",
    "model.fit(X_train_encoded, y_train)\n",
    "\n",
    "# Предсказания на валидационном наборе и расчет AUC\n",
    "y_val_pred = model.predict_proba(X_val_encoded)[:, 1]\n",
    "auc = roc_auc_score(y_val, y_val_pred)\n",
    "\n",
    "print(f\"AUC на валидационном наборе: {auc:.3f}\")"
   ]
  },
  {
   "cell_type": "markdown",
   "id": "f267d19d-a1a0-469e-9a2c-de64d8c1fb77",
   "metadata": {},
   "source": [
    "### 3 вопрос"
   ]
  },
  {
   "cell_type": "code",
   "execution_count": 6,
   "id": "e2a94108-f588-4dcb-8be5-4ca66a926aa2",
   "metadata": {},
   "outputs": [
    {
     "data": {
      "image/png": "[encoded data removed]",
      "text/plain": [
       "<Figure size 1000x600 with 1 Axes>"
      ]
     },
     "metadata": {},
     "output_type": "display_data"
    },
    {
     "name": "stdout",
     "output_type": "stream",
     "text": [
      "Порог, на котором precision и recall пересекаются: 0.250\n"
     ]
    }
   ],
   "source": [
    "import numpy as np\n",
    "import matplotlib.pyplot as plt\n",
    "from sklearn.metrics import precision_score, recall_score\n",
    "\n",
    "# Вычисляем вероятности положительного класса\n",
    "y_val_prob = model.predict_proba(X_val_encoded)[:, 1]\n",
    "\n",
    "# Списки для хранения значений precision и recall\n",
    "precision_scores = []\n",
    "recall_scores = []\n",
    "thresholds = np.arange(0.0, 1.01, 0.01)\n",
    "\n",
    "# Расчёт precision и recall для каждого порога\n",
    "for threshold in thresholds:\n",
    "    y_val_pred = (y_val_prob >= threshold).astype(int)\n",
    "    \n",
    "    # Проверяем, предсказаны ли оба класса (0 и 1)\n",
    "    if len(np.unique(y_val_pred)) < 2:\n",
    "        continue  # Пропускаем пороги, при которых модель предсказывает только один класс\n",
    "    \n",
    "    # Вычисляем precision и recall с параметром zero_division=0\n",
    "    precision = precision_score(y_val, y_val_pred, zero_division=0)\n",
    "    recall = recall_score(y_val, y_val_pred, zero_division=0)\n",
    "    \n",
    "    precision_scores.append(precision)\n",
    "    recall_scores.append(recall)\n",
    "\n",
    "# Построение графиков precision и recall\n",
    "plt.figure(figsize=(10, 6))\n",
    "plt.plot(thresholds[:len(precision_scores)], precision_scores, label='Precision')\n",
    "plt.plot(thresholds[:len(recall_scores)], recall_scores, label='Recall')\n",
    "plt.xlabel('Threshold')\n",
    "plt.ylabel('Score')\n",
    "plt.title('Precision and Recall vs. Threshold')\n",
    "plt.legend()\n",
    "plt.grid()\n",
    "plt.show()\n",
    "\n",
    "# Поиск порога, на котором precision и recall пересекаются\n",
    "precision_recall_diff = np.abs(np.array(precision_scores) - np.array(recall_scores))\n",
    "intersection_index = np.argmin(precision_recall_diff)\n",
    "intersection_threshold = thresholds[intersection_index]\n",
    "\n",
    "print(f\"Порог, на котором precision и recall пересекаются: {intersection_threshold:.3f}\")"
   ]
  },
  {
   "cell_type": "markdown",
   "id": "0227ef4f-5f51-46aa-9153-3469a2a80768",
   "metadata": {},
   "source": [
    "### 4 вопрос"
   ]
  },
  {
   "cell_type": "code",
   "execution_count": 7,
   "id": "420ef3cf-ca18-4adb-a1af-4c86087f7afa",
   "metadata": {},
   "outputs": [
    {
     "data": {
      "image/png": "[encoded data removed]",
      "text/plain": [
       "<Figure size 1000x600 with 1 Axes>"
      ]
     },
     "metadata": {},
     "output_type": "display_data"
    },
    {
     "name": "stdout",
     "output_type": "stream",
     "text": [
      "Порог, на котором F1 достигает максимума: 0.16\n"
     ]
    }
   ],
   "source": [
    "from sklearn.metrics import f1_score\n",
    "\n",
    "f1_scores = []\n",
    "\n",
    "# Вычисляем F1 для каждого порога от 0.0 до 1.0 с шагом 0.01\n",
    "for threshold in thresholds:\n",
    "    y_val_pred = (y_val_prob >= threshold).astype(int)\n",
    "    \n",
    "    # Проверяем, предсказаны ли оба класса (0 и 1)\n",
    "    if len(np.unique(y_val_pred)) < 2:\n",
    "        continue  # Пропускаем пороги, при которых модель предсказывает только один класс\n",
    "    \n",
    "    f1 = f1_score(y_val, y_val_pred, zero_division=0)\n",
    "    f1_scores.append(f1)\n",
    "\n",
    "plt.figure(figsize=(10, 6))\n",
    "plt.plot(thresholds[:len(f1_scores)], f1_scores, label='F1 Score')\n",
    "plt.xlabel('Threshold')\n",
    "plt.ylabel('F1 Score')\n",
    "plt.title('F1 Score vs. Threshold')\n",
    "plt.legend()\n",
    "plt.grid()\n",
    "plt.show()\n",
    "\n",
    "max_f1_index = np.argmax(f1_scores)\n",
    "max_f1_threshold = thresholds[max_f1_index]\n",
    "\n",
    "print(f\"Порог, на котором F1 достигает максимума: {max_f1_threshold:.2f}\")"
   ]
  },
  {
   "cell_type": "markdown",
   "id": "953e00e2-646f-440e-8883-e8e9085e653f",
   "metadata": {},
   "source": [
    "### 5 вопрос"
   ]
  },
  {
   "cell_type": "code",
   "execution_count": 8,
   "id": "96120774-191c-47cf-b573-c3dfde11c6c9",
   "metadata": {},
   "outputs": [
    {
     "name": "stdout",
     "output_type": "stream",
     "text": [
      "Оценки AUC на разных фолдах: [0.86932626 0.8570716  0.87414647 0.87279327 0.86804007]\n",
      "Стандартная ошибка оценок на разных фолдах: 0.0027\n"
     ]
    }
   ],
   "source": [
    "from sklearn.model_selection import KFold\n",
    "from sklearn.linear_model import LogisticRegression\n",
    "from sklearn.metrics import roc_auc_score\n",
    "\n",
    "df_full_train = data\n",
    "kf = KFold(n_splits=5, shuffle=True, random_state=1)\n",
    "auc_scores = []\n",
    "\n",
    "# Проход по фолдам\n",
    "for train_idx, val_idx in kf.split(df_full_train):\n",
    "    # Разделение данных на обучающую и валидационную выборки\n",
    "    df_train = df_full_train.iloc[train_idx]\n",
    "    df_val = df_full_train.iloc[val_idx]\n",
    "    \n",
    "    # Разделение на признаки и целевую переменную\n",
    "    X_train = df_train.drop(columns='y')\n",
    "    y_train = df_train['y']\n",
    "    X_val = df_val.drop(columns='y')\n",
    "    y_val = df_val['y']\n",
    "    \n",
    "    # Кодирование признаков\n",
    "    dv = DictVectorizer(sparse=False)\n",
    "    X_train_encoded = dv.fit_transform(X_train.to_dict(orient='records'))\n",
    "    X_val_encoded = dv.transform(X_val.to_dict(orient='records'))\n",
    "    \n",
    "    model = LogisticRegression(solver='liblinear', C=1.0, max_iter=1000)\n",
    "    model.fit(X_train_encoded, y_train)\n",
    "    \n",
    "    # Предсказания и расчет AUC\n",
    "    y_val_pred = model.predict_proba(X_val_encoded)[:, 1]\n",
    "    auc = roc_auc_score(y_val, y_val_pred)\n",
    "    auc_scores.append(auc)\n",
    "\n",
    "# Расчет стандартной ошибки\n",
    "auc_scores = np.array(auc_scores)\n",
    "std_error = auc_scores.std() / np.sqrt(len(auc_scores))\n",
    "\n",
    "print(f\"Оценки AUC на разных фолдах: {auc_scores}\")\n",
    "print(f\"Стандартная ошибка оценок на разных фолдах: {std_error:.4f}\")"
   ]
  },
  {
   "cell_type": "markdown",
   "id": "af03db0e-9e09-4408-9f3c-dffefd770de3",
   "metadata": {},
   "source": [
    "### 6 вопрос"
   ]
  },
  {
   "cell_type": "code",
   "execution_count": 9,
   "id": "b2ae95e6-e0fb-4752-a49e-745787b50997",
   "metadata": {},
   "outputs": [
    {
     "name": "stdout",
     "output_type": "stream",
     "text": [
      "C: 1e-06 - Средний AUC: 0.711, Стандартное отклонение: 0.011\n",
      "C: 0.001 - Средний AUC: 0.841, Стандартное отклонение: 0.006\n",
      "C: 1 - Средний AUC: 0.868, Стандартное отклонение: 0.006\n",
      "\n",
      "Лучшее значение C: 1 с средним значением AUC: 0.868\n"
     ]
    }
   ],
   "source": [
    "C_values = [0.000001, 0.001, 1]\n",
    "results = {}\n",
    "\n",
    "for C in C_values:\n",
    "    auc_scores = []\n",
    "    kf = KFold(n_splits=5, shuffle=True, random_state=1)\n",
    "    \n",
    "    for train_idx, val_idx in kf.split(df_full_train):\n",
    "        df_train = df_full_train.iloc[train_idx] # тренировочная выборка\n",
    "        df_val = df_full_train.iloc[val_idx] # валидационная\n",
    "        \n",
    "        X_train = df_train.drop(columns='y')\n",
    "        y_train = df_train['y']\n",
    "        X_val = df_val.drop(columns='y')\n",
    "        y_val = df_val['y']\n",
    "        \n",
    "        dv = DictVectorizer(sparse=False)\n",
    "        X_train_encoded = dv.fit_transform(X_train.to_dict(orient='records'))\n",
    "        X_val_encoded = dv.transform(X_val.to_dict(orient='records'))\n",
    "        \n",
    "        model = LogisticRegression(solver='liblinear', C=C, max_iter=1000)\n",
    "        model.fit(X_train_encoded, y_train)\n",
    "        \n",
    "        # Предсказания и расчет AUC\n",
    "        y_val_pred = model.predict_proba(X_val_encoded)[:, 1]\n",
    "        auc = roc_auc_score(y_val, y_val_pred)\n",
    "        auc_scores.append(auc)\n",
    "    \n",
    "    # Расчет средней оценки и стандартного отклонения для текущего C\n",
    "    mean_auc = np.mean(auc_scores)\n",
    "    std_auc = np.std(auc_scores)\n",
    "    results[C] = (mean_auc, std_auc)\n",
    "\n",
    "for C, (mean_auc, std_auc) in results.items():\n",
    "    print(f\"C: {C} - Средний AUC: {mean_auc:.3f}, Стандартное отклонение: {std_auc:.3f}\")\n",
    "\n",
    "best_C = max(results, key=lambda x: results[x][0])\n",
    "best_mean_auc = results[best_C][0]\n",
    "\n",
    "print(f\"\\nЛучшее значение C: {best_C} с средним значением AUC: {best_mean_auc:.3f}\")"
   ]
  },
  {
   "cell_type": "code",
   "execution_count": null,
   "id": "ce1272fd-e043-4f21-ad3f-479fb9a2be1f",
   "metadata": {},
   "outputs": [],
   "source": []
  }
 ],
 "metadata": {
  "kernelspec": {
   "display_name": "Python 3 (ipykernel)",
   "language": "python",
   "name": "python3"
  },
  "language_info": {
   "codemirror_mode": {
    "name": "ipython",
    "version": 3
   },
   "file_extension": ".py",
   "mimetype": "text/x-python",
   "name": "python",
   "nbconvert_exporter": "python",
   "pygments_lexer": "ipython3",
   "version": "3.12.6"
  }
 },
 "nbformat": 4,
 "nbformat_minor": 5
}
