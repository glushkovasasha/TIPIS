{
 "cells": [
  {
   "cell_type": "markdown",
   "id": "0e61e421-abd6-4845-9fe6-65654a546b89",
   "metadata": {},
   "source": [
    "# Ответы\n",
    "### 1) secondary\n",
    "### 2) pdays и previous\n",
    "### 3) poutcome\n",
    "### 4) 0.9\n",
    "### 5) previous\n",
    "### 6) 1"
   ]
  },
  {
   "cell_type": "code",
   "execution_count": 2,
   "id": "e31df2ef-a4d1-4258-b96e-cd8c9a2e69c0",
   "metadata": {},
   "outputs": [
    {
     "name": "stdout",
     "output_type": "stream",
     "text": [
      "Пропущенные значения:\n",
      " age          0\n",
      "job          0\n",
      "marital      0\n",
      "education    0\n",
      "balance      0\n",
      "housing      0\n",
      "contact      0\n",
      "day          0\n",
      "month        0\n",
      "duration     0\n",
      "campaign     0\n",
      "pdays        0\n",
      "previous     0\n",
      "poutcome     0\n",
      "y            0\n",
      "dtype: int64\n"
     ]
    }
   ],
   "source": [
    "import pandas as pd\n",
    "\n",
    "df = pd.read_csv('bank-full.csv', sep=';')\n",
    "\n",
    "columns = ['age', 'job', 'marital', 'education', 'balance', 'housing', 'contact',\n",
    "           'day', 'month', 'duration', 'campaign', 'pdays', 'previous', 'poutcome', 'y']\n",
    "df = df[columns]\n",
    "\n",
    "missing_values = df.isnull().sum()\n",
    "print(\"Пропущенные значения:\\n\", missing_values)"
   ]
  },
  {
   "cell_type": "markdown",
   "id": "63d22d5f-eb85-4bc0-863e-510bb4c4e76f",
   "metadata": {},
   "source": [
    "### 1 вопрос"
   ]
  },
  {
   "cell_type": "code",
   "execution_count": 3,
   "id": "6c1a3730-6bfc-43f5-be24-5f5a07da4aca",
   "metadata": {},
   "outputs": [
    {
     "name": "stdout",
     "output_type": "stream",
     "text": [
      "Самое частое значение для столбца 'education': secondary\n"
     ]
    }
   ],
   "source": [
    "education_mode = df['education'].mode()[0]\n",
    "\n",
    "print(\"Самое частое значение для столбца 'education':\", education_mode)"
   ]
  },
  {
   "cell_type": "markdown",
   "id": "b47fe669-053e-44e4-b80b-e8265eb711b3",
   "metadata": {},
   "source": [
    "### 2 вопрос"
   ]
  },
  {
   "cell_type": "code",
   "execution_count": 4,
   "id": "a3b8837c-3ee3-45be-bd4f-6f85e9fcba8f",
   "metadata": {},
   "outputs": [
    {
     "name": "stdout",
     "output_type": "stream",
     "text": [
      "Пара признаков с наибольшей корреляцией: ('pdays', 'previous')\n"
     ]
    }
   ],
   "source": [
    "numeric_columns = ['age', 'balance', 'day', 'duration', 'campaign', 'pdays', 'previous']\n",
    "correlation_matrix = df[numeric_columns].corr()\n",
    "\n",
    "# Поиск пары признаков с наибольшей корреляцией\n",
    "max_corr_pair = correlation_matrix.unstack().sort_values(ascending=False)\n",
    "max_corr_pair = max_corr_pair[max_corr_pair < 1].idxmax()\n",
    "\n",
    "print(\"Пара признаков с наибольшей корреляцией:\", max_corr_pair)"
   ]
  },
  {
   "cell_type": "markdown",
   "id": "b7783b87-c5e0-4bfe-b7e2-5899035d0fbf",
   "metadata": {},
   "source": [
    "### продолжение"
   ]
  },
  {
   "cell_type": "code",
   "execution_count": 5,
   "id": "4a264ce0-d810-4f7a-82bf-f80e960e70ce",
   "metadata": {},
   "outputs": [
    {
     "name": "stdout",
     "output_type": "stream",
     "text": [
      "Размеры выборок: тренировочная: 27126 , валидационная: 9042 , тестовая: 9043\n"
     ]
    }
   ],
   "source": [
    "from sklearn.model_selection import train_test_split\n",
    "df['y'] = df['y'].map({'yes': 1, 'no': 0})\n",
    "\n",
    "# Разделение данных на тренировочные, валидационные и тестовые наборы\n",
    "X = df.drop('y', axis=1)\n",
    "y = df['y']\n",
    "X_train, X_temp, y_train, y_temp = train_test_split(X, y, test_size=0.4, random_state=42)\n",
    "X_val, X_test, y_val, y_test = train_test_split(X_temp, y_temp, test_size=0.5, random_state=42)\n",
    "\n",
    "print(\"Размеры выборок: тренировочная:\", len(X_train), \", валидационная:\", len(X_val), \", тестовая:\", len(X_test))"
   ]
  },
  {
   "cell_type": "code",
   "execution_count": 15,
   "id": "60982dc9-ccee-40a9-bc17-b5d2edff503d",
   "metadata": {},
   "outputs": [
    {
     "name": "stdout",
     "output_type": "stream",
     "text": [
      "age           int64\n",
      "job          object\n",
      "marital      object\n",
      "education    object\n",
      "balance       int64\n",
      "housing      object\n",
      "contact      object\n",
      "day           int64\n",
      "month        object\n",
      "duration      int64\n",
      "campaign      int64\n",
      "pdays         int64\n",
      "previous      int64\n",
      "poutcome     object\n",
      "y             int64\n",
      "dtype: object\n"
     ]
    }
   ],
   "source": [
    "print(df.dtypes) # Что там у нас категориального такого"
   ]
  },
  {
   "cell_type": "markdown",
   "id": "95bcf790-9da8-4491-820e-3379fd64edde",
   "metadata": {},
   "source": [
    "### 3 вопрос"
   ]
  },
  {
   "cell_type": "code",
   "execution_count": 16,
   "id": "81cd12c2-663d-4775-b882-c10b4986cac0",
   "metadata": {},
   "outputs": [
    {
     "name": "stdout",
     "output_type": "stream",
     "text": [
      "Категориальная переменная с наибольшей взаимной информацией: poutcome_success\n",
      "Взаимная информация для категориальных переменных:\n",
      "                 Feature  Mutual Information\n",
      "31     poutcome_success                0.03\n",
      "32     poutcome_unknown                0.01\n",
      "16          housing_yes                0.01\n",
      "18      contact_unknown                0.01\n",
      "26            month_may                0.01\n",
      "28            month_oct                0.01\n",
      "0       job_blue-collar                0.00\n",
      "3        job_management                0.00\n",
      "1      job_entrepreneur                0.00\n",
      "8        job_technician                0.00\n",
      "9        job_unemployed                0.00\n",
      "11      marital_married                0.00\n",
      "2         job_housemaid                0.00\n",
      "5     job_self-employed                0.00\n",
      "6          job_services                0.00\n",
      "7           job_student                0.00\n",
      "4           job_retired                0.00\n",
      "15    education_unknown                0.00\n",
      "14   education_tertiary                0.00\n",
      "13  education_secondary                0.00\n",
      "12       marital_single                0.00\n",
      "10          job_unknown                0.00\n",
      "17    contact_telephone                0.00\n",
      "19            month_aug                0.00\n",
      "20            month_dec                0.00\n",
      "24            month_jun                0.00\n",
      "23            month_jul                0.00\n",
      "22            month_jan                0.00\n",
      "21            month_feb                0.00\n",
      "27            month_nov                0.00\n",
      "25            month_mar                0.00\n",
      "30       poutcome_other                0.00\n",
      "29            month_sep                0.00\n"
     ]
    }
   ],
   "source": [
    "import pandas as pd\n",
    "from sklearn.feature_selection import mutual_info_classif\n",
    "from sklearn.preprocessing import LabelEncoder\n",
    "\n",
    "categorical_columns = ['job', 'marital', 'education', 'housing', 'contact', 'month', 'poutcome']\n",
    "\n",
    "# Оставляем только категориальные признаки в тренировочной выборке\n",
    "X_train_categorical = X_train[categorical_columns]\n",
    "X_train_encoded = pd.get_dummies(X_train_categorical, drop_first=True)\n",
    "\n",
    "# Рассчитываем взаимную информацию\n",
    "mutual_info = mutual_info_classif(X_train_encoded, y_train, discrete_features=True, random_state=42)\n",
    "\n",
    "mi_df = pd.DataFrame({'Feature': X_train_encoded.columns, 'Mutual Information': mutual_info})\n",
    "\n",
    "# Округляем результаты до двух знаков после запятой\n",
    "mi_df['Mutual Information'] = mi_df['Mutual Information'].round(2)\n",
    "\n",
    "# Сортируем по взаимной информации\n",
    "mi_df_sorted = mi_df.sort_values(by='Mutual Information', ascending=False)\n",
    "\n",
    "print(\"Категориальная переменная с наибольшей взаимной информацией:\", mi_df_sorted.iloc[0]['Feature'])\n",
    "print(\"Взаимная информация для категориальных переменных:\\n\", mi_df_sorted)"
   ]
  },
  {
   "cell_type": "markdown",
   "id": "2953a410-f69d-43dc-981b-c3e94d1f5bb2",
   "metadata": {},
   "source": [
    "### 4 вопрос"
   ]
  },
  {
   "cell_type": "code",
   "execution_count": 20,
   "id": "dbfcabc9-1ed7-4e56-a050-7570d3e39916",
   "metadata": {},
   "outputs": [
    {
     "name": "stdout",
     "output_type": "stream",
     "text": [
      "Точность на валидационном наборе данных: 0.9\n"
     ]
    }
   ],
   "source": [
    "from sklearn.linear_model import LogisticRegression\n",
    "from sklearn.metrics import accuracy_score\n",
    "\n",
    "X_encoded = pd.get_dummies(X, drop_first=True)\n",
    "\n",
    "# Создание модели логистической регрессии\n",
    "model = LogisticRegression(solver='liblinear', C=1.0, max_iter=1000, random_state=42)\n",
    "\n",
    "# Обучение модели на тренировочных данных с one-hot кодированием\n",
    "model.fit(X_encoded.loc[X_train.index], y_train)\n",
    "# Применяем one-hot кодирование к валидационному набору данных\n",
    "X_val_encoded = pd.get_dummies(X_val)\n",
    "# Убедимся, что все столбцы из тренировочного набора присутствуют в валидационном\n",
    "X_val_encoded = X_val_encoded.reindex(columns=X_encoded.columns, fill_value=0)\n",
    "# Предсказание на валидационной выборке\n",
    "y_val_pred = model.predict(X_val_encoded)\n",
    "\n",
    "# Рассчет точности\n",
    "accuracy = accuracy_score(y_val, y_val_pred)\n",
    "# Округление\n",
    "accuracy_rounded = round(accuracy, 2)\n",
    "\n",
    "print(\"Точность на валидационном наборе данных:\", accuracy_rounded)"
   ]
  },
  {
   "cell_type": "markdown",
   "id": "6c76c68c-30c4-4368-9824-91645e3007f0",
   "metadata": {},
   "source": [
    "### 5 вопрос"
   ]
  },
  {
   "cell_type": "code",
   "execution_count": 29,
   "id": "51af2749-0a6f-4e3b-8e2b-ad15c145f495",
   "metadata": {},
   "outputs": [
    {
     "name": "stdout",
     "output_type": "stream",
     "text": [
      "Начальная точность: 0.9\n",
      "Разница в точности без age: -0.00037\n",
      "Разница в точности без balance: -0.00026\n",
      "Разница в точности без previous: -0.00041\n",
      "Наименее полезный признак: previous\n"
     ]
    }
   ],
   "source": [
    "# Исходная модель с использованием всех признаков\n",
    "model = LogisticRegression(solver='liblinear', C=1.0, max_iter=1000, random_state=42)\n",
    "model.fit(X_encoded.loc[X_train.index], y_train)\n",
    "\n",
    "# Предсказание и расчет начальной точности\n",
    "y_train_pred = model.predict(X_encoded.loc[X_train.index])\n",
    "initial_accuracy = accuracy_score(y_train, y_train_pred)\n",
    "print(\"Начальная точность:\", round(initial_accuracy, 2))\n",
    "\n",
    "# Признаки для исключения (проверяем, что они есть в X_encoded)\n",
    "features_to_exclude = ['age', 'balance', 'marital', 'previous']\n",
    "valid_features_to_exclude = [feature for feature in features_to_exclude if feature in X_encoded.columns]\n",
    "results = {}\n",
    "\n",
    "for feature in valid_features_to_exclude:\n",
    "    # Копируем X_encoded без одного признака\n",
    "    X_temp = X_encoded.drop(columns=[feature], errors='ignore')\n",
    "    \n",
    "    # Обучаем модель без этого признака\n",
    "    model.fit(X_temp.loc[X_train.index], y_train)\n",
    "    \n",
    "    # Предсказание и расчет точности\n",
    "    y_temp_pred = model.predict(X_temp.loc[X_train.index])\n",
    "    accuracy_without_feature = accuracy_score(y_train, y_temp_pred)\n",
    "    \n",
    "    # Сохраняем разницу в точности\n",
    "    difference = initial_accuracy - accuracy_without_feature\n",
    "    results[feature] = difference\n",
    "\n",
    "for feature, difference in results.items():\n",
    "    print(f\"Разница в точности без {feature}: {round(difference, 5)}\")\n",
    "\n",
    "least_useful_feature = min(results, key=results.get)\n",
    "print(\"Наименее полезный признак:\", least_useful_feature)"
   ]
  },
  {
   "cell_type": "markdown",
   "id": "1664809d-9acc-4cff-99e0-c08aa2768b4f",
   "metadata": {},
   "source": [
    "### 6 вопрос"
   ]
  },
  {
   "cell_type": "code",
   "execution_count": 36,
   "id": "be4233dd-1401-40eb-837f-a6a92461cbcc",
   "metadata": {},
   "outputs": [
    {
     "name": "stdout",
     "output_type": "stream",
     "text": [
      "C: 0.01, Точность: 0.898\n",
      "C: 0.1, Точность: 0.9\n",
      "C: 1, Точность: 0.901\n",
      "C: 10, Точность: 0.9\n",
      "C: 100, Точность: 0.901\n",
      "Наилучшее значение C: 1 с точностью: 0.901\n"
     ]
    }
   ],
   "source": [
    "C_values = [0.01, 0.1, 1, 10, 100]\n",
    "accuracies = {}\n",
    "\n",
    "for C in C_values:\n",
    "    # Создание модели логистической регрессии с текущим значением C\n",
    "    model = LogisticRegression(solver='liblinear', C=C, max_iter=1000, random_state=42)\n",
    "    model.fit(X_encoded.loc[X_train.index], y_train)\n",
    "    X_val_encoded = pd.get_dummies(X_val)\n",
    "    X_val_encoded = X_val_encoded.reindex(columns=X_encoded.columns, fill_value=0)\n",
    "    y_val_pred = model.predict(X_val_encoded)\n",
    "\n",
    "    accuracy = accuracy_score(y_val, y_val_pred)\n",
    "    accuracies[C] = round(accuracy, 3)\n",
    "\n",
    "for C, acc in accuracies.items():\n",
    "    print(f\"C: {C}, Точность: {acc}\")\n",
    "\n",
    "# Находим значение C с наилучшей точностью\n",
    "best_C = min(accuracies, key=lambda k: (-accuracies[k], k))\n",
    "print(\"Наилучшее значение C:\", best_C, \"с точностью:\", accuracies[best_C])"
   ]
  },
  {
   "cell_type": "code",
   "execution_count": null,
   "id": "cf7f4342-572c-4ef4-8ce0-14c8bac0d026",
   "metadata": {},
   "outputs": [],
   "source": []
  }
 ],
 "metadata": {
  "kernelspec": {
   "display_name": "Python 3 (ipykernel)",
   "language": "python",
   "name": "python3"
  },
  "language_info": {
   "codemirror_mode": {
    "name": "ipython",
    "version": 3
   },
   "file_extension": ".py",
   "mimetype": "text/x-python",
   "name": "python",
   "nbconvert_exporter": "python",
   "pygments_lexer": "ipython3",
   "version": "3.12.6"
  }
 },
 "nbformat": 4,
 "nbformat_minor": 5
}
