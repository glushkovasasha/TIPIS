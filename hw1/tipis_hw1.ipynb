{
 "cells": [
  {
   "cell_type": "code",
   "execution_count": 10,
   "id": "627347a9-b601-4204-a241-3e98a44cb4f1",
   "metadata": {},
   "outputs": [],
   "source": [
    "import pandas as pd"
   ]
  },
  {
   "cell_type": "code",
   "execution_count": 11,
   "id": "433473fc-8757-4ec4-9ebb-26c820039761",
   "metadata": {},
   "outputs": [
    {
     "data": {
      "text/html": [
       "<div>\n",
       "<style scoped>\n",
       "    .dataframe tbody tr th:only-of-type {\n",
       "        vertical-align: middle;\n",
       "    }\n",
       "\n",
       "    .dataframe tbody tr th {\n",
       "        vertical-align: top;\n",
       "    }\n",
       "\n",
       "    .dataframe thead th {\n",
       "        text-align: right;\n",
       "    }\n",
       "</style>\n",
       "<table border=\"1\" class=\"dataframe\">\n",
       "  <thead>\n",
       "    <tr style=\"text-align: right;\">\n",
       "      <th></th>\n",
       "      <th>age</th>\n",
       "      <th>workclass</th>\n",
       "      <th>fnlwgt</th>\n",
       "      <th>education</th>\n",
       "      <th>education-num</th>\n",
       "      <th>marital-status</th>\n",
       "      <th>occupation</th>\n",
       "      <th>relationship</th>\n",
       "      <th>race</th>\n",
       "      <th>sex</th>\n",
       "      <th>capital-gain</th>\n",
       "      <th>capital-loss</th>\n",
       "      <th>hours-per-week</th>\n",
       "      <th>native-country</th>\n",
       "      <th>income</th>\n",
       "    </tr>\n",
       "  </thead>\n",
       "  <tbody>\n",
       "    <tr>\n",
       "      <th>0</th>\n",
       "      <td>39</td>\n",
       "      <td>State-gov</td>\n",
       "      <td>77516</td>\n",
       "      <td>Bachelors</td>\n",
       "      <td>13</td>\n",
       "      <td>Never-married</td>\n",
       "      <td>Adm-clerical</td>\n",
       "      <td>Not-in-family</td>\n",
       "      <td>White</td>\n",
       "      <td>Male</td>\n",
       "      <td>2174</td>\n",
       "      <td>0</td>\n",
       "      <td>40</td>\n",
       "      <td>United-States</td>\n",
       "      <td>&lt;=50K</td>\n",
       "    </tr>\n",
       "    <tr>\n",
       "      <th>1</th>\n",
       "      <td>50</td>\n",
       "      <td>Self-emp-not-inc</td>\n",
       "      <td>83311</td>\n",
       "      <td>Bachelors</td>\n",
       "      <td>13</td>\n",
       "      <td>Married-civ-spouse</td>\n",
       "      <td>Exec-managerial</td>\n",
       "      <td>Husband</td>\n",
       "      <td>White</td>\n",
       "      <td>Male</td>\n",
       "      <td>0</td>\n",
       "      <td>0</td>\n",
       "      <td>13</td>\n",
       "      <td>United-States</td>\n",
       "      <td>&lt;=50K</td>\n",
       "    </tr>\n",
       "    <tr>\n",
       "      <th>2</th>\n",
       "      <td>38</td>\n",
       "      <td>Private</td>\n",
       "      <td>215646</td>\n",
       "      <td>HS-grad</td>\n",
       "      <td>9</td>\n",
       "      <td>Divorced</td>\n",
       "      <td>Handlers-cleaners</td>\n",
       "      <td>Not-in-family</td>\n",
       "      <td>White</td>\n",
       "      <td>Male</td>\n",
       "      <td>0</td>\n",
       "      <td>0</td>\n",
       "      <td>40</td>\n",
       "      <td>United-States</td>\n",
       "      <td>&lt;=50K</td>\n",
       "    </tr>\n",
       "    <tr>\n",
       "      <th>3</th>\n",
       "      <td>53</td>\n",
       "      <td>Private</td>\n",
       "      <td>234721</td>\n",
       "      <td>11th</td>\n",
       "      <td>7</td>\n",
       "      <td>Married-civ-spouse</td>\n",
       "      <td>Handlers-cleaners</td>\n",
       "      <td>Husband</td>\n",
       "      <td>Black</td>\n",
       "      <td>Male</td>\n",
       "      <td>0</td>\n",
       "      <td>0</td>\n",
       "      <td>40</td>\n",
       "      <td>United-States</td>\n",
       "      <td>&lt;=50K</td>\n",
       "    </tr>\n",
       "    <tr>\n",
       "      <th>4</th>\n",
       "      <td>28</td>\n",
       "      <td>Private</td>\n",
       "      <td>338409</td>\n",
       "      <td>Bachelors</td>\n",
       "      <td>13</td>\n",
       "      <td>Married-civ-spouse</td>\n",
       "      <td>Prof-specialty</td>\n",
       "      <td>Wife</td>\n",
       "      <td>Black</td>\n",
       "      <td>Female</td>\n",
       "      <td>0</td>\n",
       "      <td>0</td>\n",
       "      <td>40</td>\n",
       "      <td>Cuba</td>\n",
       "      <td>&lt;=50K</td>\n",
       "    </tr>\n",
       "  </tbody>\n",
       "</table>\n",
       "</div>"
      ],
      "text/plain": [
       "   age          workclass  fnlwgt   education  education-num  \\\n",
       "0   39          State-gov   77516   Bachelors             13   \n",
       "1   50   Self-emp-not-inc   83311   Bachelors             13   \n",
       "2   38            Private  215646     HS-grad              9   \n",
       "3   53            Private  234721        11th              7   \n",
       "4   28            Private  338409   Bachelors             13   \n",
       "\n",
       "        marital-status          occupation    relationship    race      sex  \\\n",
       "0        Never-married        Adm-clerical   Not-in-family   White     Male   \n",
       "1   Married-civ-spouse     Exec-managerial         Husband   White     Male   \n",
       "2             Divorced   Handlers-cleaners   Not-in-family   White     Male   \n",
       "3   Married-civ-spouse   Handlers-cleaners         Husband   Black     Male   \n",
       "4   Married-civ-spouse      Prof-specialty            Wife   Black   Female   \n",
       "\n",
       "   capital-gain  capital-loss  hours-per-week  native-country  income  \n",
       "0          2174             0              40   United-States   <=50K  \n",
       "1             0             0              13   United-States   <=50K  \n",
       "2             0             0              40   United-States   <=50K  \n",
       "3             0             0              40   United-States   <=50K  \n",
       "4             0             0              40            Cuba   <=50K  "
      ]
     },
     "execution_count": 11,
     "metadata": {},
     "output_type": "execute_result"
    }
   ],
   "source": [
    "pd.set_option('display.max_columns', None)\n",
    "df = pd.read_csv('adult.data', header = None)\n",
    "df.columns = ['age', 'workclass', 'fnlwgt', 'education', 'education-num', \n",
    "              'marital-status', 'occupation', 'relationship', 'race', 'sex',\n",
    "             'capital-gain', 'capital-loss', 'hours-per-week', 'native-country', 'income']\n",
    "df.head()"
   ]
  },
  {
   "cell_type": "markdown",
   "id": "46baf909-d770-4618-8fcd-660d895349d9",
   "metadata": {},
   "source": [
    "### 1) Число столбцов в наборе данных"
   ]
  },
  {
   "cell_type": "code",
   "execution_count": 12,
   "id": "0a503e33-5853-4e92-b450-112291589e58",
   "metadata": {},
   "outputs": [
    {
     "data": {
      "text/plain": [
       "15"
      ]
     },
     "execution_count": 12,
     "metadata": {},
     "output_type": "execute_result"
    }
   ],
   "source": [
    "len(df.columns)"
   ]
  },
  {
   "cell_type": "markdown",
   "id": "1b7d9260-2e9b-412d-a69f-c882172ea696",
   "metadata": {},
   "source": [
    "### 2) Есть ли пропуски в данных? Если есть, то в каких столбцах"
   ]
  },
  {
   "cell_type": "code",
   "execution_count": 13,
   "id": "3993378d-9ece-4d86-bba9-758a1fb2035c",
   "metadata": {},
   "outputs": [
    {
     "name": "stdout",
     "output_type": "stream",
     "text": [
      "workclass: 1836\n",
      "occupation: 1843\n",
      "native-country: 583\n"
     ]
    }
   ],
   "source": [
    "emptyСolumns = []\n",
    "for column in df.columns:\n",
    "    if df[column].isin([' ?']).any():\n",
    "        emptyСolumns.append(column)\n",
    "if len(emptyСolumns) == 0:\n",
    "    print('Пропусков нет')\n",
    "else:\n",
    "    for column in emptyСolumns:\n",
    "        print(f\"{column}: {df[df[column] == ' ?'].shape[0]}\")"
   ]
  },
  {
   "cell_type": "markdown",
   "id": "ee37dc09-ad23-44f7-ac5e-82b4150bb947",
   "metadata": {},
   "source": [
    "### 3) Кол-во уникальных значений в столбце race"
   ]
  },
  {
   "cell_type": "code",
   "execution_count": 14,
   "id": "f0be75f9-bc54-4ab8-a733-b9ad6ce8d353",
   "metadata": {},
   "outputs": [
    {
     "data": {
      "text/plain": [
       "5"
      ]
     },
     "execution_count": 14,
     "metadata": {},
     "output_type": "execute_result"
    }
   ],
   "source": [
    "df['race'].nunique()"
   ]
  },
  {
   "cell_type": "markdown",
   "id": "5bbceb2d-f234-47a5-9da5-5cac03dbca3f",
   "metadata": {},
   "source": [
    "### 4) Медиана hours-per-week"
   ]
  },
  {
   "cell_type": "code",
   "execution_count": 15,
   "id": "02bf1c35-0281-4495-bd56-d2b8aec7bc1f",
   "metadata": {},
   "outputs": [
    {
     "data": {
      "text/plain": [
       "np.float64(40.0)"
      ]
     },
     "execution_count": 15,
     "metadata": {},
     "output_type": "execute_result"
    }
   ],
   "source": [
    "df['hours-per-week'].median()"
   ]
  },
  {
   "cell_type": "markdown",
   "id": "c1aaa0ac-1832-440c-9cc1-f9d506ebeb9d",
   "metadata": {},
   "source": [
    "### 5) Кого больше - женщин или мужчин с ЗП >50K?"
   ]
  },
  {
   "cell_type": "code",
   "execution_count": 16,
   "id": "57d201e9-36d3-4cf7-af64-aff8e84c0cef",
   "metadata": {},
   "outputs": [
    {
     "name": "stdout",
     "output_type": "stream",
     "text": [
      "Мужчин\n"
     ]
    }
   ],
   "source": [
    "income = df['income'] == ' >50K'\n",
    "men = df[income]['sex'].value_counts()[' Male']\n",
    "women = df[income]['sex'].value_counts()[' Female']\n",
    "if men > women:\n",
    "    print('Мужчин')\n",
    "elif women > men:\n",
    "    print('Женщин')\n",
    "else:\n",
    "    print('Одинаково мужчин и женщин')"
   ]
  },
  {
   "cell_type": "markdown",
   "id": "101276de-d607-4a4c-87e4-03e85f2c03f7",
   "metadata": {},
   "source": [
    "### 6) Заполните пропущенные данные в отдельных столбцах наиболее встречаемыми значениями. Как еще можно было бы заполнить пропущенные данные?"
   ]
  },
  {
   "cell_type": "code",
   "execution_count": 17,
   "id": "7e0ef747-9ccb-4cc4-a560-b2fa54f56128",
   "metadata": {},
   "outputs": [],
   "source": [
    "emptyColumns = ['workclass', 'occupation', 'native-country']\n",
    "for columns in emptyColumns:\n",
    "    modeValue = df[columns].mode().values[0]\n",
    "    df.replace({columns: ' ?'}, modeValue, inplace = True)"
   ]
  },
  {
   "cell_type": "code",
   "execution_count": 18,
   "id": "15f2f4c0-347b-4f69-8e53-be1bbf9335a2",
   "metadata": {},
   "outputs": [
    {
     "name": "stdout",
     "output_type": "stream",
     "text": [
      "Пропусков нет\n"
     ]
    }
   ],
   "source": [
    "emptyСolumns = []\n",
    "for column in df.columns:\n",
    "    if df[column].isin([' ?']).any():\n",
    "        emptyСolumns.append(column)\n",
    "if len(emptyСolumns) == 0:\n",
    "    print('Пропусков нет')\n",
    "else:\n",
    "    for column in emptyСolumns:\n",
    "        print(f\"{column}: {df[df[column] == ' ?'].shape[0]}\")"
   ]
  },
  {
   "cell_type": "markdown",
   "id": "3b67c26d-815f-4437-8f08-5de6aa3db70f",
   "metadata": {},
   "source": [
    "## Ответы на вопросы"
   ]
  },
  {
   "cell_type": "markdown",
   "id": "ebd1ac67-7016-4ba3-afce-cf6cd35b0492",
   "metadata": {},
   "source": [
    "### 1) Число столбцов в наборе данных: 15\n",
    "### 2) Есть пропуски, в столбцах workclass, occupation, native-country\n",
    "### 3) Кол-во уникальных значений в столбце race: 5\n",
    "### 4) Медиана hours-per-week: 40\n",
    "### 5) С ЗП >50K мужчин больше\n",
    "### 6) Помимо наиболее встречаемых значений, можно было бы заполнить пропуски с использованием предыдущего значения (forward fill), с использованием следующего значения (backward fill), и с использованием наиболее вероятного значения на основе других столбцов (с помощью модели) "
   ]
  }
 ],
 "metadata": {
  "kernelspec": {
   "display_name": "Python 3 (ipykernel)",
   "language": "python",
   "name": "python3"
  },
  "language_info": {
   "codemirror_mode": {
    "name": "ipython",
    "version": 3
   },
   "file_extension": ".py",
   "mimetype": "text/x-python",
   "name": "python",
   "nbconvert_exporter": "python",
   "pygments_lexer": "ipython3",
   "version": "3.12.6"
  }
 },
 "nbformat": 4,
 "nbformat_minor": 5
}
